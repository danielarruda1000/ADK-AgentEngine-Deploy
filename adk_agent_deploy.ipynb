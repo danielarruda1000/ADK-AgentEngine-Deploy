{
 "cells": [
  {
   "cell_type": "markdown",
   "id": "13145800",
   "metadata": {},
   "source": [
    "# SETUP environment\n",
    "create a .env file and setup:\n",
    "\n",
    "* GOOGLE_GENAI_USE_VERTEXAI=FALSE\n",
    "* GOOGLE_API_KEY=YOUR_KEY\n",
    "\n",
    "# Install packages:\n",
    "* google-cloud-aiplatform==1.97.0\n",
    "* google-adk==1.3.0\n",
    "\n"
   ]
  },
  {
   "cell_type": "markdown",
   "id": "2550075a",
   "metadata": {},
   "source": [
    "# Part 1 - Creating the agent"
   ]
  },
  {
   "cell_type": "code",
   "execution_count": null,
   "id": "204eeedc",
   "metadata": {},
   "outputs": [],
   "source": [
    "# Import classes to define individual and sequential agents using Google's ADK\n",
    "# LlmAgent: Defines a language model agent with specific instructions\n",
    "# SequentialAgent: Chains multiple agents in sequence\n",
    "from google.adk.agents import LlmAgent, SequentialAgent\n",
    "\n",
    "\n",
    "LLM_MODEL_NAME = \"gemini-2.0-flash\"\n",
    "\n",
    "\n",
    "agent_one = LlmAgent(\n",
    "    model=LLM_MODEL_NAME,\n",
    "    name=\"agent_one_name\",\n",
    "    description=\"Overview description\",\n",
    "    instruction=\"\"\" Full prompt of agent one.\n",
    "\n",
    "    Taks:\n",
    "    1) Task 1\n",
    "    2) Task 2\n",
    "    3) Task 3\n",
    "\n",
    "    Output:\n",
    "    Final answer will be store on variable `output_agent_one`\n",
    "\"\"\",\n",
    "    output_key=\"output_agent_one\"\n",
    ")\n",
    "\n",
    "\n",
    "agent_two = LlmAgent(\n",
    "    model=LLM_MODEL_NAME,\n",
    "    name=\"agent_two_name\",\n",
    "    description=\"Overview description\",\n",
    "    instruction=\"\"\" Full prompt of agent two.\n",
    "\n",
    "    Using the previous output: {output_agent_one} do:\n",
    "\n",
    "    Taks:\n",
    "    1) Task 1\n",
    "    2) Task 2\n",
    "    3) Task 3\n",
    "\n",
    "    Output:\n",
    "    Final answer will be store on variable `output_agent_two`\n",
    "\"\"\",\n",
    "    output_key=\"output_agent_two\"\n",
    ")\n",
    "\n",
    "\n",
    "agent_three = LlmAgent(\n",
    "    model=LLM_MODEL_NAME,\n",
    "    name=\"agent_three_name\",\n",
    "    description=\"Overview description\",\n",
    "    instruction=\"\"\" Full prompt of agent two.\n",
    "\n",
    "    Using the previous output: {output_agent_two} do:\n",
    "\n",
    "    Taks:\n",
    "    1) Task 1\n",
    "    2) Task 2\n",
    "    3) Task 3\n",
    "\n",
    "    Output:\n",
    "    Final answer will be return to user\n",
    "\"\"\"\n",
    ")\n",
    "\n",
    "orchestrator_agent = SequentialAgent(\n",
    "    name=\"Name of Final Agent\",\n",
    "    sub_agents=[agent_one, agent_two, agent_three] # The agent will be executed in this order\n",
    "\n",
    "    description='Overview description',\n",
    ")\n",
    "\n",
    "\n",
    "root_agent = orchestrator_agent\n"
   ]
  },
  {
   "cell_type": "markdown",
   "id": "79e39f3b",
   "metadata": {},
   "source": [
    "# Part 2 - Deploy on Agent Engine"
   ]
  },
  {
   "cell_type": "code",
   "execution_count": null,
   "id": "d209af25",
   "metadata": {},
   "outputs": [],
   "source": [
    "import os\n",
    "import vertexai\n",
    "from vertexai import agent_engines\n",
    "from vertexai.preview.reasoning_engines import AdkApp\n",
    "\n",
    "PROJECT_ID = 'PROJECT ID NUMBER'\n",
    "LOCATION = 'us-central1'\n",
    "STAGING_BUCKET = 'gs://BUCKET_NAME'\n",
    "\n",
    "\n",
    "print('Init VertexAI')\n",
    "vertexai.init(\n",
    "    project=PROJECT_ID,\n",
    "    location=LOCATION,\n",
    "    staging_bucket=STAGING_BUCKET,\n",
    ")\n",
    "\n",
    "app = AdkApp(\n",
    "    agent=root_agent,\n",
    "    enable_tracing=True\n",
    ")\n",
    "\n",
    "print('Deploy Remote on GCP VertexAI Agent Engine')\n",
    "\n",
    "remote_app = agent_engines.create(\n",
    "    app,\n",
    "    requirements=[\n",
    "        \"google-cloud-aiplatform[adk,agent_engines]\"\n",
    "    ],\n",
    "    gcs_dir_name=STAGING_BUCKET,\n",
    "    env_vars={'GOOGLE_API_KEY': os.getenv('GOOGLE_API_KEY'),\n",
    "                'GOOGLE_GENAI_USE_VERTEXAI': 'TRUE'},\n",
    ")\n",
    "\n",
    "print(remote_app.resource_name)\n"
   ]
  },
  {
   "cell_type": "markdown",
   "id": "95573ae6",
   "metadata": {},
   "source": [
    "# Part 3 - Call the agent deployed"
   ]
  },
  {
   "cell_type": "code",
   "execution_count": null,
   "id": "0afce6fd",
   "metadata": {},
   "outputs": [],
   "source": [
    "from vertexai import agent_engines\n",
    "\n",
    "AGENT_ID=\"AGENT ID\"\n",
    "USER_ID=\"123\"\n",
    "PROJECT_ID = 'PROJECT ID NUMBER'\n",
    "LOCATION = 'us-central1'\n",
    "STAGING_BUCKET = 'gs://BUCKET_NAME'\n"
   ]
  },
  {
   "cell_type": "code",
   "execution_count": null,
   "id": "6b50bc90",
   "metadata": {},
   "outputs": [],
   "source": [
    "# Retreive agent from VertexAI Agent Engine\n",
    "agent = agent_engines.get(f\"projects/{PROJECT_ID}/locations/{LOCATION}/reasoningEngines/{AGENT_ID}\")"
   ]
  },
  {
   "cell_type": "code",
   "execution_count": null,
   "id": "e06f5679",
   "metadata": {},
   "outputs": [],
   "source": [
    "# Creating new session\n",
    "remote_session = agent.create_session(user_id=USER_ID)\n",
    "remote_session"
   ]
  },
  {
   "cell_type": "code",
   "execution_count": null,
   "id": "08dd67d3",
   "metadata": {},
   "outputs": [],
   "source": [
    "query_input = \"Your query input to agent\""
   ]
  },
  {
   "cell_type": "code",
   "execution_count": null,
   "id": "bf00f658",
   "metadata": {},
   "outputs": [],
   "source": [
    "# Query agent\n",
    "for event in agent.stream_query(\n",
    "    user_id=\"u_456\",\n",
    "    session_id=remote_session[\"id\"],\n",
    "    message=query_input,\n",
    "):\n",
    "    print(event)"
   ]
  }
 ],
 "metadata": {
  "kernelspec": {
   "display_name": "env",
   "language": "python",
   "name": "python3"
  },
  "language_info": {
   "codemirror_mode": {
    "name": "ipython",
    "version": 3
   },
   "file_extension": ".py",
   "mimetype": "text/x-python",
   "name": "python",
   "nbconvert_exporter": "python",
   "pygments_lexer": "ipython3",
   "version": "3.12.10"
  }
 },
 "nbformat": 4,
 "nbformat_minor": 5
}
